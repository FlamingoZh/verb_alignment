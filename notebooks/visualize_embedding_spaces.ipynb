{
 "cells": [
  {
   "cell_type": "code",
   "execution_count": 1,
   "id": "ff11b785-4526-4644-b459-7256d85a05ce",
   "metadata": {},
   "outputs": [],
   "source": [
    "import csv\n",
    "import sys\n",
    "import os\n",
    "import pickle\n",
    "import random\n",
    "import numpy as np\n",
    "import time\n",
    "import operator\n",
    "import seaborn as sns\n",
    "import pandas as pd\n",
    "\n",
    "import matplotlib\n",
    "import matplotlib.pyplot as plt\n",
    "\n",
    "from collections import Counter\n",
    "\n",
    "import statsmodels.stats.api as sms\n",
    "\n",
    "import scipy.stats\n",
    "from scipy.stats import entropy\n",
    "from scipy.stats import spearmanr\n",
    "from scipy.stats import zscore\n",
    "from sklearn.linear_model import LinearRegression\n",
    "from sklearn.metrics.pairwise import cosine_similarity"
   ]
  },
  {
   "cell_type": "code",
   "execution_count": 2,
   "id": "e8d3870c-7424-4c50-966b-4a57d07a4d81",
   "metadata": {},
   "outputs": [],
   "source": [
    "sys.path.append('../python')\n",
    "from permutation import permutation, compute_alignment_strength\n",
    "from utils.utils_funcs import get_variance, get_distinctness, get_distinctness_from_nearest_5, aggregate_embeddings_visual_and_language\n",
    "from utils.utils_funcs import load_data_to_dict"
   ]
  },
  {
   "cell_type": "code",
   "execution_count": 3,
   "id": "5c45e4ee-ab7a-4320-a8e3-a8c4bb841723",
   "metadata": {},
   "outputs": [],
   "source": [
    "import warnings\n",
    "warnings.filterwarnings(\"ignore\")"
   ]
  },
  {
   "cell_type": "code",
   "execution_count": 4,
   "id": "6edc64e3-d799-4e84-801c-7d7ec9d4712e",
   "metadata": {},
   "outputs": [],
   "source": [
    "def dimension_reduction_TSNE(vectors,perplexity=30):\n",
    "    from sklearn.manifold import TSNE\n",
    "    tsne = TSNE(n_components=2, random_state=0, perplexity=perplexity)\n",
    "    Y = tsne.fit_transform(vectors)\n",
    "    mid = int(Y.shape[0]/2)\n",
    "    # print(mid)\n",
    "    return Y[:mid],Y[mid:]\n",
    "\n",
    "# generate n distinct colors\n",
    "def gen_distinct_colors(num_colors):\n",
    "\timport colorsys\n",
    "\tcolors=[]\n",
    "\tfor i in np.arange(0., 360., 360. / num_colors):\n",
    "\t\thue = i/360.\n",
    "\t\tlightness = (50 + np.random.rand() * 10)/100.\n",
    "\t\tsaturation = (90 + np.random.rand() * 10)/100.\n",
    "\t\tcolors.append(colorsys.hls_to_rgb(hue, lightness, saturation))\n",
    "\treturn np.array(colors)\n",
    "\n",
    "def dup_list(lst,num):\n",
    "    return [item for item in lst for _ in range(num)]"
   ]
  },
  {
   "cell_type": "code",
   "execution_count": 5,
   "id": "33f02f70-dd12-4a46-9312-e55628f47d7f",
   "metadata": {},
   "outputs": [],
   "source": [
    "vg_noun_data=pickle.load(open(\"../data/dumped_embeddings/vg_noun_least20_ll_swav_bert_20.pkl\",\"rb\"))\n",
    "vg_verb_data=pickle.load(open(\"../data/dumped_embeddings/vg_verb_least20_ll_swav_bert_20.pkl\",\"rb\"))\n",
    "\n",
    "# aggregated_vg_noun_data=aggregate_embeddings_visual_and_language(vg_noun_data,1,1)\n",
    "# aggregated_vg_verb_data=aggregate_embeddings_visual_and_language(vg_verb_data,1,1)"
   ]
  },
  {
   "cell_type": "code",
   "execution_count": 6,
   "id": "73b25c55-d5bb-40fa-9bd8-5a85e84a33fc",
   "metadata": {},
   "outputs": [
    {
     "name": "stdout",
     "output_type": "stream",
     "text": [
      "['man', 'window', 'woman', 'building', 'person', 'tree', 'wall', 'shirt', 'sky', 'water', 'grass', 'train', 'airplane', 'hand', 'car', 'cloud', 'pole', 'dog', 'girl', 'bus', 'road', 'giraffe', 'snow', 'elephant', 'head', 'street', 'cat', 'people', 'field', 'horse', 'light', 'leaf', 'boat', 'leg', 'clock', 'zebra', 'fence', 'hair', 'bird', 'pizza', 'floor', 'bicycle', 'hat', 'ear', 'bench', 'door', 'line', 'sidewalk', 'bear', 'wheel', 'shadow', 'rock', 'eye', 'flower', 'child', 'bed', 'beach', 'shoe', 'cow', 'trouser', 'chair', 'jacket', 'motorcycle', 'skateboard', 'truck', 'bowl', 'surfboard', 'sheep', 'numeral', 'bag', 'tail', 'desk', 'mirror', 'food', 'shelf', 'glass', 'umbrella', 'spectacles', 'foot', 'player', 'face', 'nose', 'wave', 'letter', 'handle', 'bottle', 'counter', 'arm', 'animal', 'sand', 'lady', 'box', 'picture', 'vase', 'pillow', 'sink', 'banana', 'guy', 'house', 'book', 'shrub', 'ocean', 'toilet', 'tile', 'sofa', 'tire', 'hill', 'jean', 'mountain', 'laptop', 'logo', 'cup', 'plant', 'cap', 'paper', 'telephone', 'frisbee', 'ball', 'tower', 'post', 'wing', 'ceiling', 'button', 'ski', 'branch', 'trunk', 'roof', 'headlight', 'sunglasses', 'coat', 'sandwich', 'mouth', 'brick', 'flag', 'lamp', 'cabinet', 'necktie', 'court', 'neck', 'skier', 'fork', 'bathroom', 'railing', 'keyboard', 'writing', 'room', 'television', 'basket', 'tray', 'knife', 'seat', 'wire', 'suit', 'engine', 'towel', 'rug', 'container', 'bridge', 'baby', 'finger', 'air', 'cheese', 'pot', 'computer', 'vehicle', 'horn', 'apple', 'surfer', 'broccoli', 'stove', 'batter', 'watch', 'design', 'windshield', 'backpack', 'collar', 'fruit', 'bread', 'catcher', 'sock', 'photograph', 'teddy', 'word', 'dish', 'curtain', 'distance', 'kitchen', 'frame', 'blanket', 'napkin', 'paw', 'pavement', 'hole', 'dress', 'platform', 'ballplayer', 'wood', 'oven', 'back', 'camera', 'tag', 'boot', 'snowboard', 'park', 'river', 'carrot', 'jet', 'wrist', 'uniform', 'barroom']\n"
     ]
    }
   ],
   "source": [
    "print(vg_noun_data['words'])"
   ]
  },
  {
   "cell_type": "code",
   "execution_count": 11,
   "id": "7799742f-cd3a-4f7d-ad42-a8620a5078c9",
   "metadata": {},
   "outputs": [],
   "source": [
    "vg_noun_concepts=['horse','dog','cow']"
   ]
  },
  {
   "cell_type": "code",
   "execution_count": 14,
   "id": "20cc4818-8de1-49cd-9cda-ab2b942014dd",
   "metadata": {},
   "outputs": [],
   "source": [
    "vg_verb_concepts=['stand','walk','sit']"
   ]
  },
  {
   "cell_type": "code",
   "execution_count": 15,
   "id": "749ba80e-df15-4f2b-958a-ae2322d20124",
   "metadata": {},
   "outputs": [],
   "source": [
    "def reformat_data_for_viz(data,concepts,num=20):\n",
    "    vis_data=list()\n",
    "    lang_data=list()\n",
    "    for concept in concepts:\n",
    "        for item in data['embeds'][concept]['visual'][:num]:\n",
    "            vis_data.append(item)\n",
    "        for item in data['embeds'][concept]['language'][:num]:\n",
    "            lang_data.append(item)\n",
    "    return np.array(vis_data),np.array(lang_data)"
   ]
  },
  {
   "cell_type": "code",
   "execution_count": 16,
   "id": "58ead9b4-ac91-48c9-b227-d02afd5b753d",
   "metadata": {},
   "outputs": [],
   "source": [
    "n_exemplar=20"
   ]
  },
  {
   "cell_type": "code",
   "execution_count": 17,
   "id": "f4766dff-7673-4e7f-9c14-3eb7484c51a9",
   "metadata": {},
   "outputs": [],
   "source": [
    "vg_noun_vis,vg_noun_lang=reformat_data_for_viz(vg_noun_data,vg_noun_concepts,n_exemplar)\n",
    "vg_verb_vis,vg_verb_lang=reformat_data_for_viz(vg_verb_data,vg_verb_concepts,n_exemplar)"
   ]
  },
  {
   "cell_type": "code",
   "execution_count": 18,
   "id": "c23f8811-b194-4daf-9a69-0ec29342affe",
   "metadata": {},
   "outputs": [
    {
     "data": {
      "text/plain": [
       "((60, 128), (60, 128))"
      ]
     },
     "execution_count": 18,
     "metadata": {},
     "output_type": "execute_result"
    }
   ],
   "source": [
    "vg_noun_vis.shape,vg_verb_vis.shape"
   ]
  },
  {
   "cell_type": "code",
   "execution_count": 19,
   "id": "114ddaa0-f1c7-4ce3-becc-76e795d1b0b0",
   "metadata": {},
   "outputs": [
    {
     "data": {
      "text/plain": [
       "(120, 128)"
      ]
     },
     "execution_count": 19,
     "metadata": {},
     "output_type": "execute_result"
    }
   ],
   "source": [
    "np.vstack([vg_noun_vis,vg_verb_vis]).shape"
   ]
  },
  {
   "cell_type": "code",
   "execution_count": 20,
   "id": "b44d331c-37b9-4039-ad87-c4862fe7e78e",
   "metadata": {},
   "outputs": [],
   "source": [
    "vg_noun_vis_reduced,vg_verb_vis_reduced=dimension_reduction_TSNE(np.vstack([vg_noun_vis,vg_verb_vis]),perplexity=20)\n",
    "vg_noun_lang_reduced,vg_verb_lang_reduced=dimension_reduction_TSNE(np.vstack([vg_noun_lang,vg_verb_lang]),perplexity=20)"
   ]
  },
  {
   "cell_type": "code",
   "execution_count": 21,
   "id": "550fe408-b797-4fb9-8b4c-ac21145b82ab",
   "metadata": {},
   "outputs": [
    {
     "data": {
      "text/plain": [
       "((60, 128), (60, 2), (60, 128), (60, 2))"
      ]
     },
     "execution_count": 21,
     "metadata": {},
     "output_type": "execute_result"
    }
   ],
   "source": [
    "vg_noun_vis.shape,vg_noun_vis_reduced.shape,vg_verb_vis.shape,vg_verb_vis_reduced.shape"
   ]
  },
  {
   "cell_type": "code",
   "execution_count": 22,
   "id": "8c1e9212-59ce-4c3a-b943-217dcc297a68",
   "metadata": {},
   "outputs": [],
   "source": [
    "df_noun_vis=pd.DataFrame(vg_noun_vis_reduced,columns=['dim1','dim2'])\n",
    "df_noun_vis['label']=dup_list(vg_noun_concepts,n_exemplar)\n",
    "df_noun_lang=pd.DataFrame(vg_noun_lang_reduced,columns=['dim1','dim2'])\n",
    "df_noun_lang['label']=dup_list(vg_noun_concepts,n_exemplar)\n",
    "df_verb_vis=pd.DataFrame(vg_verb_vis_reduced,columns=['dim1','dim2'])\n",
    "df_verb_vis['label']=dup_list(vg_verb_concepts,n_exemplar)\n",
    "df_verb_lang=pd.DataFrame(vg_verb_lang_reduced,columns=['dim1','dim2'])\n",
    "df_verb_lang['label']=dup_list(vg_verb_concepts,n_exemplar)"
   ]
  },
  {
   "cell_type": "code",
   "execution_count": 23,
   "id": "112a3d16-b48d-480b-9c64-24720920ed50",
   "metadata": {},
   "outputs": [],
   "source": [
    "# compute centriods\n",
    "def calculate_centroids(df,concepts):\n",
    "    centroids=list()\n",
    "    for concept in concepts:\n",
    "        new_df=df.loc[df['label'] == concept]\n",
    "        centroids.append((new_df['dim1'].mean(),new_df['dim2'].mean()))\n",
    "    return np.array(centroids)"
   ]
  },
  {
   "cell_type": "code",
   "execution_count": 24,
   "id": "b30902c7-bc6d-4f49-85bd-70dfa8535cd6",
   "metadata": {},
   "outputs": [],
   "source": [
    "noun_vis_centroids=calculate_centroids(df_noun_vis,vg_noun_concepts)\n",
    "noun_lang_centroids=calculate_centroids(df_noun_lang,vg_noun_concepts)\n",
    "verb_vis_centroids=calculate_centroids(df_verb_vis,vg_verb_concepts)\n",
    "verb_lang_centroids=calculate_centroids(df_verb_lang,vg_verb_concepts)"
   ]
  },
  {
   "cell_type": "code",
   "execution_count": 25,
   "id": "c32a00d4-a8e9-49f0-802e-8cd92a18e0de",
   "metadata": {},
   "outputs": [
    {
     "data": {
      "text/plain": [
       "(3, 2)"
      ]
     },
     "execution_count": 25,
     "metadata": {},
     "output_type": "execute_result"
    }
   ],
   "source": [
    "noun_vis_centroids.shape"
   ]
  },
  {
   "cell_type": "code",
   "execution_count": 26,
   "id": "faaf8bd1-d99b-4070-9510-d3108a3c8bd5",
   "metadata": {},
   "outputs": [],
   "source": [
    "import numpy as np\n",
    "\n",
    "import matplotlib.pyplot as plt\n",
    "from matplotlib.patches import Ellipse\n",
    "\n",
    "def plot_point_cov(points, nstd=2, ax=None, **kwargs):\n",
    "    \"\"\"\n",
    "    Plots an `nstd` sigma ellipse based on the mean and covariance of a point\n",
    "    \"cloud\" (points, an Nx2 array).\n",
    "\n",
    "    Parameters\n",
    "    ----------\n",
    "        points : An Nx2 array of the data points.\n",
    "        nstd : The radius of the ellipse in numbers of standard deviations.\n",
    "            Defaults to 2 standard deviations.\n",
    "        ax : The axis that the ellipse will be plotted on. Defaults to the \n",
    "            current axis.\n",
    "        Additional keyword arguments are pass on to the ellipse patch.\n",
    "\n",
    "    Returns\n",
    "    -------\n",
    "        A matplotlib ellipse artist\n",
    "    \"\"\"\n",
    "    pos = points.mean(axis=0)\n",
    "    cov = np.cov(points, rowvar=False)\n",
    "    return plot_cov_ellipse(cov, pos, nstd, ax, **kwargs)\n",
    "\n",
    "def plot_cov_ellipse(cov, pos, nstd=2, ax=None, **kwargs):\n",
    "    \"\"\"\n",
    "    Plots an `nstd` sigma error ellipse based on the specified covariance\n",
    "    matrix (`cov`). Additional keyword arguments are passed on to the \n",
    "    ellipse patch artist.\n",
    "\n",
    "    Parameters\n",
    "    ----------\n",
    "        cov : The 2x2 covariance matrix to base the ellipse on\n",
    "        pos : The location of the center of the ellipse. Expects a 2-element\n",
    "            sequence of [x0, y0].\n",
    "        nstd : The radius of the ellipse in numbers of standard deviations.\n",
    "            Defaults to 2 standard deviations.\n",
    "        ax : The axis that the ellipse will be plotted on. Defaults to the \n",
    "            current axis.\n",
    "        Additional keyword arguments are pass on to the ellipse patch.\n",
    "\n",
    "    Returns\n",
    "    -------\n",
    "        A matplotlib ellipse artist\n",
    "    \"\"\"\n",
    "    def eigsorted(cov):\n",
    "        vals, vecs = np.linalg.eigh(cov)\n",
    "        order = vals.argsort()[::-1]\n",
    "        return vals[order], vecs[:,order]\n",
    "\n",
    "    if ax is None:\n",
    "        ax = plt.gca()\n",
    "\n",
    "    vals, vecs = eigsorted(cov)\n",
    "    theta = np.degrees(np.arctan2(*vecs[:,0][::-1]))\n",
    "\n",
    "    # Width and height are \"full\" widths, not radius\n",
    "    width, height = 2 * nstd * np.sqrt(vals)\n",
    "    ellip = Ellipse(xy=pos, width=width, height=height, angle=theta, **kwargs)\n",
    "\n",
    "    ax.add_artist(ellip)\n",
    "    return ellip"
   ]
  },
  {
   "cell_type": "code",
   "execution_count": 211,
   "id": "1957ecb7-f2ee-48c1-89de-705aae2d8234",
   "metadata": {},
   "outputs": [],
   "source": [
    "def draw_exemplars(data,categories,n_exemplar,colors,ax):\n",
    "    for n, color in enumerate(colors):\n",
    "        category_points=data[n*n_exemplar:(n+1)*n_exemplar]\n",
    "        ax.scatter(\n",
    "            category_points[:, 0], category_points[:, 1], s=5, color=color, label=categories[n]\n",
    "        )\n",
    "    # plt.legend(scatterpoints=1, prop=dict(size=12))\n",
    "\n",
    "def draw_ellipses(data,n_exemplar,colors,ax):\n",
    "    for n, color in enumerate(colors):\n",
    "        plot_point_cov(data[n*n_exemplar:(n+1)*n_exemplar],nstd=1, alpha=0.5, color=color,ax=ax)\n",
    "\n",
    "def draw_centriods(centroids,colors,ax):\n",
    "    for n, color in enumerate(colors):\n",
    "        ax.scatter(\n",
    "            centroids[n,0],centroids[n,1],s=50,color=color\n",
    "        )\n",
    "        \n",
    "def draw_pairwise_arrow(data,ax):\n",
    "    from itertools import combinations\n",
    "    import matplotlib.patches as patches\n",
    "    for i,j in list(combinations(data, 2)):\n",
    "        # print(i,j)\n",
    "        arrow = patches.FancyArrowPatch(i, j, arrowstyle='<|-|>', mutation_scale=10, color='#CBCBCB',linewidth=3, shrinkA=5,shrinkB=5)\n",
    "        ax.add_patch(arrow)\n",
    "        \n",
    "def draw_everything(data,centroids,categories,n_exemplar,colors,ax):\n",
    "    draw_exemplars(data,categories,n_exemplar,colors,ax)\n",
    "    draw_ellipses(data,n_exemplar,colors,ax)\n",
    "    draw_centriods(centroids,colors,ax)\n",
    "    draw_pairwise_arrow(centroids,ax)"
   ]
  },
  {
   "cell_type": "code",
   "execution_count": 213,
   "id": "af59f7d3-ad70-410c-b12b-e095729e1671",
   "metadata": {},
   "outputs": [],
   "source": [
    "def rotate(p, origin=(0, 0), degrees=0):\n",
    "    angle = np.deg2rad(degrees)\n",
    "    R = np.array([[np.cos(angle), -np.sin(angle)],\n",
    "                  [np.sin(angle),  np.cos(angle)]])\n",
    "    o = np.atleast_2d(origin)\n",
    "    p = np.atleast_2d(p)\n",
    "    return np.squeeze((R @ (p.T-o.T) + o.T).T)"
   ]
  },
  {
   "cell_type": "code",
   "execution_count": 226,
   "id": "32ee7539-98ee-4ff8-bb4d-908074e169bb",
   "metadata": {},
   "outputs": [
    {
     "data": {
      "image/png": "[encoded data removed]",
      "text/plain": [
       "<Figure size 460.8x345.6 with 1 Axes>"
      ]
     },
     "metadata": {
      "needs_background": "light"
     },
     "output_type": "display_data"
    }
   ],
   "source": [
    "n_classes=3\n",
    "cov_type='full'\n",
    "colors = [\"navy\", \"turquoise\", \"darkorange\"]\n",
    "fig, ax = plt.subplots(1, figsize=(6.4, 4.8))\n",
    "ax.set_xlim(-18, 7)\n",
    "ax.set_ylim(-12, 4)\n",
    "\n",
    "draw_everything(\n",
    "    data=vg_noun_lang_reduced,\n",
    "    centroids=noun_lang_centroids,\n",
    "    categories=vg_noun_concepts,\n",
    "    n_exemplar=n_exemplar,\n",
    "    colors=colors,\n",
    "    ax=ax\n",
    ")\n",
    "ax.axis('off')\n",
    "\n",
    "plt.text(-12,-7,'Horse',color='navy',fontname='Georgia',fontsize=15)\n",
    "plt.text(-6,1,'Dog',color='turquoise',fontname='Georgia',fontsize=15)\n",
    "plt.text(2,-7.5,'Cow',color='darkorange',fontname='Georgia',fontsize=15)\n",
    "\n",
    "if save_fig:\n",
    "    plt.savefig(\"../figs/viz_embed_noun_lang.png\",dpi=600)\n",
    "plt.show()"
   ]
  },
  {
   "cell_type": "code",
   "execution_count": 227,
   "id": "773588ec-d5a2-4ac1-8c51-967839c338d2",
   "metadata": {},
   "outputs": [
    {
     "data": {
      "image/png": "[encoded data removed]",
      "text/plain": [
       "<Figure size 460.8x345.6 with 1 Axes>"
      ]
     },
     "metadata": {
      "needs_background": "light"
     },
     "output_type": "display_data"
    }
   ],
   "source": [
    "n_classes=3\n",
    "cov_type='full'\n",
    "colors = [\"navy\", \"turquoise\", \"darkorange\"]\n",
    "# ax = plt.subplot()\n",
    "fig, ax = plt.subplots(1, figsize=(6.4, 4.8))\n",
    "ax.set_xlim(-15, 15)\n",
    "ax.set_ylim(-20, 16)\n",
    "\n",
    "draw_everything(\n",
    "    data=rotate(vg_noun_vis_reduced,degrees=90),\n",
    "    centroids=rotate(noun_vis_centroids,degrees=90),\n",
    "    categories=vg_noun_concepts,\n",
    "    n_exemplar=n_exemplar,\n",
    "    colors=colors,\n",
    "    ax=ax\n",
    ")\n",
    "# plt.xticks(())\n",
    "# plt.yticks(())\n",
    "ax.axis('off')\n",
    "\n",
    "plt.text(-9,-10,'Horse',color='navy',fontname='Georgia',fontsize=15)\n",
    "plt.text(-6,13.5,'Dog',color='turquoise',fontname='Georgia',fontsize=15)\n",
    "plt.text(9,-6.5,'Cow',color='darkorange',fontname='Georgia',fontsize=15)\n",
    "\n",
    "if save_fig:\n",
    "    plt.savefig(\"../figs/viz_embed_noun_vis.png\",dpi=600)\n",
    "plt.show()"
   ]
  },
  {
   "cell_type": "code",
   "execution_count": 228,
   "id": "5d487045-56b9-426b-88e1-7f7a04a48114",
   "metadata": {},
   "outputs": [
    {
     "data": {
      "image/png": "[encoded data removed]",
      "text/plain": [
       "<Figure size 460.8x345.6 with 1 Axes>"
      ]
     },
     "metadata": {
      "needs_background": "light"
     },
     "output_type": "display_data"
    }
   ],
   "source": [
    "n_classes=3\n",
    "cov_type='full'\n",
    "colors = [\"mediumseagreen\", \"lightcoral\", \"plum\"]\n",
    "fig, ax = plt.subplots(1, figsize=(6.4, 4.8))\n",
    "ax.set_xlim(-5, 20)\n",
    "ax.set_ylim(-3, 13)\n",
    "\n",
    "draw_everything(\n",
    "    data=vg_verb_lang_reduced,\n",
    "    centroids=verb_lang_centroids,\n",
    "    categories=vg_verb_concepts,\n",
    "    n_exemplar=n_exemplar,\n",
    "    colors=colors,\n",
    "    ax=ax\n",
    ")\n",
    "ax.axis('off')\n",
    "\n",
    "plt.text(10,11,'Stand',color='mediumseagreen',fontname='Georgia',fontsize=15)\n",
    "plt.text(-2,5.5,'Walk',color='lightcoral',fontname='Georgia',fontsize=15)\n",
    "plt.text(12,0,'Sit',color='plum',fontname='Georgia',fontsize=15)\n",
    "\n",
    "if save_fig:\n",
    "    plt.savefig(\"../figs/viz_embed_verb_lang.png\",dpi=600)\n",
    "plt.show()"
   ]
  },
  {
   "cell_type": "code",
   "execution_count": 229,
   "id": "e9f8b795-91b7-4a6d-9697-b3f60dc57613",
   "metadata": {},
   "outputs": [
    {
     "data": {
      "image/png": "[encoded data removed]",
      "text/plain": [
       "<Figure size 460.8x345.6 with 1 Axes>"
      ]
     },
     "metadata": {
      "needs_background": "light"
     },
     "output_type": "display_data"
    }
   ],
   "source": [
    "n_classes=3\n",
    "cov_type='full'\n",
    "colors = [\"mediumseagreen\", \"lightcoral\", \"plum\"]\n",
    "fig, ax = plt.subplots(1, figsize=(6.4, 4.8))\n",
    "ax.set_xlim(-15, 15)\n",
    "ax.set_ylim(-20, 16)\n",
    "\n",
    "draw_everything(\n",
    "    data=rotate(vg_verb_vis_reduced,degrees=-50),\n",
    "    centroids=rotate(verb_vis_centroids,degrees=-50),\n",
    "    categories=vg_verb_concepts,\n",
    "    n_exemplar=n_exemplar,\n",
    "    colors=colors,\n",
    "    ax=ax\n",
    ")\n",
    "ax.axis('off')\n",
    "\n",
    "plt.text(-1,3,'Stand',color='mediumseagreen',fontname='Georgia',fontsize=15)\n",
    "plt.text(-11,5.5,'Walk',color='lightcoral',fontname='Georgia',fontsize=15)\n",
    "plt.text(8,1,'Sit',color='plum',fontname='Georgia',fontsize=15)\n",
    "\n",
    "if save_fig:\n",
    "    plt.savefig(\"../figs/viz_embed_verb_vis.png\",dpi=600)\n",
    "plt.show()"
   ]
  },
  {
   "cell_type": "code",
   "execution_count": 230,
   "id": "9a0513cd-2cf0-4a70-b423-0d3114f20cb4",
   "metadata": {},
   "outputs": [
    {
     "data": {
      "image/png": "[encoded data removed]",
      "text/plain": [
       "<Figure size 460.8x345.6 with 1 Axes>"
      ]
     },
     "metadata": {
      "needs_background": "light"
     },
     "output_type": "display_data"
    }
   ],
   "source": [
    "n_classes=3\n",
    "cov_type='full'\n",
    "colors = [\"navy\", \"turquoise\", \"darkorange\"]\n",
    "fig, ax = plt.subplots(1, figsize=(6.4, 4.8))\n",
    "ax.set_xlim(-18, 7)\n",
    "ax.set_ylim(-12, 4)\n",
    "\n",
    "draw_exemplars(vg_noun_lang_reduced,vg_noun_concepts,n_exemplar,colors,ax)\n",
    "draw_centriods(noun_lang_centroids,colors,ax)\n",
    "draw_pairwise_arrow(noun_lang_centroids,ax)\n",
    "\n",
    "ax.axis('off')\n",
    "\n",
    "plt.text(-12,-7,'Horse',color='navy',fontname='Georgia',fontsize=15)\n",
    "plt.text(-6,1,'Dog',color='turquoise',fontname='Georgia',fontsize=15)\n",
    "plt.text(2,-7.5,'Cow',color='darkorange',fontname='Georgia',fontsize=15)\n",
    "\n",
    "if save_fig:\n",
    "    plt.savefig(\"../figs/viz_embed_noun_lang_dist.png\",dpi=600)\n",
    "plt.show()"
   ]
  },
  {
   "cell_type": "code",
   "execution_count": 231,
   "id": "7f82a313-e877-4596-a3db-a637bde777e6",
   "metadata": {},
   "outputs": [
    {
     "data": {
      "image/png": "[encoded data removed]",
      "text/plain": [
       "<Figure size 460.8x345.6 with 1 Axes>"
      ]
     },
     "metadata": {
      "needs_background": "light"
     },
     "output_type": "display_data"
    }
   ],
   "source": [
    "n_classes=3\n",
    "cov_type='full'\n",
    "colors = [\"mediumseagreen\", \"lightcoral\", \"plum\"]\n",
    "fig, ax = plt.subplots(1, figsize=(6.4, 4.8))\n",
    "ax.set_xlim(-5, 20)\n",
    "ax.set_ylim(-3, 13)\n",
    "\n",
    "draw_exemplars(vg_verb_lang_reduced,vg_verb_concepts,n_exemplar,colors,ax)\n",
    "draw_centriods(verb_lang_centroids,colors,ax)\n",
    "draw_pairwise_arrow(verb_lang_centroids,ax)\n",
    "\n",
    "ax.axis('off')\n",
    "\n",
    "plt.text(10,11,'Stand',color='mediumseagreen',fontname='Georgia',fontsize=15)\n",
    "plt.text(-2,5.5,'Walk',color='lightcoral',fontname='Georgia',fontsize=15)\n",
    "plt.text(12,0,'Sit',color='plum',fontname='Georgia',fontsize=15)\n",
    "\n",
    "if save_fig:\n",
    "    plt.savefig(\"../figs/viz_embed_verb_lang_dist.png\",dpi=600)\n",
    "plt.show()"
   ]
  },
  {
   "cell_type": "code",
   "execution_count": 234,
   "id": "78ee1125-4874-4b48-9130-523d2dc27282",
   "metadata": {},
   "outputs": [
    {
     "data": {
      "image/png": "[encoded data removed]",
      "text/plain": [
       "<Figure size 460.8x345.6 with 1 Axes>"
      ]
     },
     "metadata": {
      "needs_background": "light"
     },
     "output_type": "display_data"
    }
   ],
   "source": [
    "n_classes=3\n",
    "cov_type='full'\n",
    "colors = [\"navy\", \"turquoise\", \"darkorange\"]\n",
    "fig, ax = plt.subplots(1, figsize=(6.4, 4.8))\n",
    "ax.set_xlim(-18, 7)\n",
    "ax.set_ylim(-12, 4)\n",
    "\n",
    "draw_exemplars(vg_noun_lang_reduced,vg_noun_concepts,n_exemplar,colors,ax)\n",
    "draw_centriods(noun_lang_centroids,colors,ax)\n",
    "draw_ellipses(vg_noun_lang_reduced,n_exemplar,colors,ax)\n",
    "\n",
    "ax.axis('off')\n",
    "\n",
    "plt.text(-12,-7,'Horse',color='navy',fontname='Georgia',fontsize=15)\n",
    "plt.text(-6,1,'Dog',color='turquoise',fontname='Georgia',fontsize=15)\n",
    "plt.text(2,-7.5,'Cow',color='darkorange',fontname='Georgia',fontsize=15)\n",
    "\n",
    "if save_fig:\n",
    "    plt.savefig(\"../figs/viz_embed_noun_lang_var.png\",dpi=600)\n",
    "plt.show()"
   ]
  },
  {
   "cell_type": "code",
   "execution_count": 235,
   "id": "dd703cb7-9dda-4a71-afb9-7ae0d23c81b7",
   "metadata": {},
   "outputs": [
    {
     "data": {
      "image/png": "[encoded data removed]",
      "text/plain": [
       "<Figure size 460.8x345.6 with 1 Axes>"
      ]
     },
     "metadata": {
      "needs_background": "light"
     },
     "output_type": "display_data"
    }
   ],
   "source": [
    "n_classes=3\n",
    "cov_type='full'\n",
    "colors = [\"mediumseagreen\", \"lightcoral\", \"plum\"]\n",
    "fig, ax = plt.subplots(1, figsize=(6.4, 4.8))\n",
    "ax.set_xlim(-5, 20)\n",
    "ax.set_ylim(-3, 13)\n",
    "\n",
    "draw_exemplars(vg_verb_lang_reduced,vg_verb_concepts,n_exemplar,colors,ax)\n",
    "draw_centriods(verb_lang_centroids,colors,ax)\n",
    "draw_ellipses(vg_verb_lang_reduced,n_exemplar,colors,ax)\n",
    "\n",
    "ax.axis('off')\n",
    "\n",
    "plt.text(10,11,'Stand',color='mediumseagreen',fontname='Georgia',fontsize=15)\n",
    "plt.text(-2,5.5,'Walk',color='lightcoral',fontname='Georgia',fontsize=15)\n",
    "plt.text(12,0,'Sit',color='plum',fontname='Georgia',fontsize=15)\n",
    "\n",
    "if save_fig:\n",
    "    plt.savefig(\"../figs/viz_embed_verb_lang_var.png\",dpi=600)\n",
    "plt.show()"
   ]
  }
 ],
 "metadata": {
  "kernelspec": {
   "display_name": "Python 3 (ipykernel)",
   "language": "python",
   "name": "python3"
  },
  "language_info": {
   "codemirror_mode": {
    "name": "ipython",
    "version": 3
   },
   "file_extension": ".py",
   "mimetype": "text/x-python",
   "name": "python",
   "nbconvert_exporter": "python",
   "pygments_lexer": "ipython3",
   "version": "3.9.15"
  }
 },
 "nbformat": 4,
 "nbformat_minor": 5
}
