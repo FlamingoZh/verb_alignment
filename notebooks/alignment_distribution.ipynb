{
 "cells": [
  {
   "cell_type": "code",
   "execution_count": 1,
   "id": "e222fdbb-8b5b-4121-a8f4-668c7479c8fe",
   "metadata": {},
   "outputs": [],
   "source": [
    "import csv\n",
    "import sys\n",
    "import os\n",
    "import pickle\n",
    "import random\n",
    "import time\n",
    "import numpy as np\n",
    "import time\n",
    "import operator\n",
    "import seaborn as sns\n",
    "import pandas as pd\n",
    "\n",
    "import matplotlib\n",
    "import matplotlib.pyplot as plt\n",
    "\n",
    "from collections import Counter\n",
    "\n",
    "import statsmodels.stats.api as sms\n",
    "\n",
    "import scipy.stats\n",
    "from scipy.stats import entropy\n",
    "from scipy.stats import spearmanr\n",
    "from scipy.stats import zscore\n",
    "from sklearn.linear_model import LinearRegression\n",
    "from sklearn.metrics.pairwise import cosine_similarity"
   ]
  },
  {
   "cell_type": "code",
   "execution_count": 2,
   "id": "8ff9701a-244a-423a-b653-5dbefaaed175",
   "metadata": {},
   "outputs": [],
   "source": [
    "import warnings\n",
    "warnings.filterwarnings(\"ignore\")"
   ]
  },
  {
   "cell_type": "code",
   "execution_count": 3,
   "id": "ee991d9d-3f0d-417e-9082-6dbd109b63c9",
   "metadata": {},
   "outputs": [],
   "source": [
    "from scipy.stats import spearmanr\n",
    "from sklearn.metrics.pairwise import cosine_similarity"
   ]
  },
  {
   "cell_type": "code",
   "execution_count": 4,
   "id": "64df7887-f934-4e04-ad87-a36f884ab2aa",
   "metadata": {},
   "outputs": [],
   "source": [
    "sys.path.append('../python')\n",
    "from utils.utils_funcs import get_variance, get_distinctness, get_distinctness_from_nearest_5\n",
    "from utils.utils_funcs import load_data_to_dict\n",
    "from utils.utils_funcs import aggregate_embeddings_visual_and_language"
   ]
  },
  {
   "cell_type": "code",
   "execution_count": null,
   "id": "204bd84b-8d13-4843-846f-7050456a0d0b",
   "metadata": {},
   "outputs": [],
   "source": [
    "save_fig=False"
   ]
  },
  {
   "cell_type": "code",
   "execution_count": 5,
   "id": "3e9c174b-ff70-48e9-ae1d-4a9367e85faf",
   "metadata": {},
   "outputs": [],
   "source": [
    "# adapted from permutation.py\n",
    "def upper_tri_indexing(A):\n",
    "    m = A.shape[0]\n",
    "    r,c = np.triu_indices(m,1)\n",
    "    return A[r,c]\n",
    "\n",
    "def compute_alignment_strength(z_0,z_1,return_poss=False):\n",
    "    sim_z_0=cosine_similarity(z_0)\n",
    "    sim_z_1=cosine_similarity(z_1)\n",
    "    if return_poss:\n",
    "        return spearmanr(upper_tri_indexing(sim_z_0), upper_tri_indexing(sim_z_1))\n",
    "    else:\n",
    "        return spearmanr(upper_tri_indexing(sim_z_0), upper_tri_indexing(sim_z_1))[0]\n",
    "\n",
    "# adapted from permutation.py\n",
    "def permutation(z_0,z_1,n_sim=1000,return_poss=False):\n",
    "    alignment_strength_list=list()\n",
    "    alignment_strength,p=compute_alignment_strength(z_0,z_1,return_poss=True) #true mapping system\n",
    "    alignment_strength_list.append(alignment_strength) \n",
    "    for i_sim in range(n_sim):\n",
    "        alignment_strength_list.append(compute_alignment_strength(z_0, np.random.permutation(z_1)))\n",
    "    count=0\n",
    "    for ele in alignment_strength_list[1:]:\n",
    "        if alignment_strength_list[0]>ele:\n",
    "            count+=1\n",
    "    relative_alignment_strength=count/(len(alignment_strength_list)-1)\n",
    "    if return_poss:\n",
    "        return relative_alignment_strength, alignment_strength_list, p\n",
    "    else:\n",
    "        return relative_alignment_strength, alignment_strength_list\n",
    "\n",
    "def get_alignment_strength_list(struct,concepts,n_sim=1000):\n",
    "    visual_embeddings_list=list()\n",
    "    langauge_embeddings_list=list()\n",
    "    for concept in concepts:\n",
    "        embeddings=struct[\"embeds\"][concept]\n",
    "        visual_embeddings_list.append(embeddings[\"visual\"])\n",
    "        langauge_embeddings_list.append(embeddings[\"language\"])\n",
    "    z_0=np.array(visual_embeddings_list)\n",
    "    z_1=np.array(langauge_embeddings_list)\n",
    "    return permutation(z_0,z_1,n_sim=n_sim,return_poss=True)"
   ]
  },
  {
   "cell_type": "code",
   "execution_count": 6,
   "id": "1bb33b70-d892-4cb0-b708-89cdd037037d",
   "metadata": {},
   "outputs": [],
   "source": [
    "def compute_rAS(alignment_strength_list):\n",
    "    count=0\n",
    "    for ele in alignment_strength_list[1:]:\n",
    "        if alignment_strength_list[0]>ele:\n",
    "            count+=1\n",
    "    relative_alignment_strength=count/(len(alignment_strength_list)-1)\n",
    "    return relative_alignment_strength"
   ]
  },
  {
   "cell_type": "code",
   "execution_count": 7,
   "id": "2856a1be-b648-4fbb-8523-5164c1151a0e",
   "metadata": {},
   "outputs": [],
   "source": [
    "# sns.set_style('darkgrid')  # darkgrid, white grid, dark, white and ticks\n",
    "plt.rc('axes', titlesize=18)  # fontsize of the axes title\n",
    "plt.rc('axes', labelsize=18)  # fontsize of the x and y labels\n",
    "plt.rc('xtick', labelsize=18)  # fontsize of the tick labels\n",
    "plt.rc('ytick', labelsize=18)  # fontsize of the tick labels\n",
    "plt.rc('legend', fontsize=18)  # legend fontsize\n",
    "plt.rc('font', size=18)  # controls default text sizes\n",
    "# plt.figure(figsize=(10, 6), tight_layout=True)"
   ]
  },
  {
   "cell_type": "code",
   "execution_count": 8,
   "id": "d9962361-bf10-4f76-8379-2c94f693d8e9",
   "metadata": {},
   "outputs": [],
   "source": [
    "vg_noun_data=pickle.load(open(\"../data/dumped_embeddings_replication/vg_noun_least20_ll_swav_bert_20.pkl\",\"rb\"))\n",
    "vg_verb_data=pickle.load(open(\"../data/dumped_embeddings_replication/vg_verb_least20_ll_swav_bert_20.pkl\",\"rb\"))"
   ]
  },
  {
   "cell_type": "code",
   "execution_count": 10,
   "id": "4b8169a0-f3ce-41be-a77a-00b1715fc631",
   "metadata": {},
   "outputs": [],
   "source": [
    "def run_alignment_multiple_runs(noun_data,verb_data,n_sample=1):\n",
    "    t1=time.time()\n",
    "    rAS_noun_list=list()\n",
    "    aAS_noun_list=list()\n",
    "    # aAS_noun_zscore_list=list()\n",
    "    p_noun_list=list()\n",
    "    rAS_verb_list=list()\n",
    "    aAS_verb_list=list()\n",
    "    # aAS_verb_zscore_list=list()\n",
    "    p_verb_list=list()\n",
    "    \n",
    "    for run in range(1000):\n",
    "        selected_noun_data=aggregate_embeddings_visual_and_language(noun_data,n_sample,n_sample)\n",
    "        # selected_noun_data=get_random_embeddings_visual_and_language(noun_data,1)\n",
    "        rAS_noun,aAS_noun,p_noun=get_alignment_strength_list(selected_noun_data,selected_noun_data[\"words\"],n_sim=1000)\n",
    "        rAS_noun_list.append(rAS_noun)\n",
    "        aAS_noun_list.append(aAS_noun)\n",
    "        # aAS_noun_zscore_list.append(zscore(aAS_noun))\n",
    "        p_noun_list.append(p_noun)\n",
    "        \n",
    "        selected_verb_data=aggregate_embeddings_visual_and_language(verb_data,n_sample,n_sample)\n",
    "        # selected_verb_data=get_random_embeddings_visual_and_language(verb_data,1)\n",
    "        rAS_verb,aAS_verb,p_verb=get_alignment_strength_list(selected_verb_data,selected_verb_data[\"words\"],n_sim=1000)\n",
    "        rAS_verb_list.append(rAS_verb)\n",
    "        aAS_verb_list.append(aAS_verb)\n",
    "        # aAS_verb_zscore_list.append(zscore(aAS_verb))\n",
    "        p_verb_list.append(p_verb)\n",
    "    t2=time.time()\n",
    "    print(t2-t1)\n",
    "    return rAS_noun_list,aAS_noun_list,p_noun_list,rAS_verb_list,aAS_verb_list,p_verb_list"
   ]
  },
  {
   "cell_type": "markdown",
   "id": "a98381f5-d25c-4e76-8747-a5411d725aee",
   "metadata": {},
   "source": [
    "## Systems with 1 exemplar per category"
   ]
  },
  {
   "cell_type": "code",
   "execution_count": 11,
   "id": "892e746e-b984-4f08-b089-75692f3d920a",
   "metadata": {},
   "outputs": [
    {
     "name": "stdout",
     "output_type": "stream",
     "text": [
      "10131.67787694931\n"
     ]
    }
   ],
   "source": [
    "rAS_noun_list,aAS_noun_list,p_noun_list,rAS_verb_list,aAS_verb_list,p_verb_list=run_alignment_multiple_runs(vg_noun_data,vg_verb_data,1)"
   ]
  },
  {
   "cell_type": "code",
   "execution_count": 12,
   "id": "4feb830e-f331-425a-918d-09e23c5d2829",
   "metadata": {},
   "outputs": [
    {
     "data": {
      "text/plain": [
       "(0.754, 0.601)"
      ]
     },
     "execution_count": 12,
     "metadata": {},
     "output_type": "execute_result"
    }
   ],
   "source": [
    "len([i for i in p_noun_list if i<0.05])/len(p_noun_list),len([i for i in p_verb_list if i<0.05])/len(p_verb_list)"
   ]
  },
  {
   "cell_type": "code",
   "execution_count": 13,
   "id": "797c9fc7-2322-45ef-a1c8-dd26682c274a",
   "metadata": {},
   "outputs": [
    {
     "data": {
      "text/plain": [
       "(0.7611619999999999, 0.6193569999999999)"
      ]
     },
     "execution_count": 13,
     "metadata": {},
     "output_type": "execute_result"
    }
   ],
   "source": [
    "np.mean([compute_rAS(sublist) for sublist in aAS_noun_list]),np.mean([compute_rAS(sublist) for sublist in aAS_verb_list])"
   ]
  },
  {
   "cell_type": "code",
   "execution_count": 14,
   "id": "f21104d7-8be0-4494-a805-a66a6c5df68f",
   "metadata": {},
   "outputs": [],
   "source": [
    "aAS_true_mapping_noun=[sublist[0] for sublist in aAS_noun_list]\n",
    "aAS_perm_mapping_noun=[item for sublist in aAS_noun_list for item in sublist[1:]]\n",
    "\n",
    "aAS_true_mapping_verb=[sublist[0] for sublist in aAS_verb_list]\n",
    "aAS_perm_mapping_verb=[item for sublist in aAS_verb_list for item in sublist[1:]]"
   ]
  },
  {
   "cell_type": "code",
   "execution_count": 15,
   "id": "2ed1dc71-6589-432e-9306-c8a3dfb8cffe",
   "metadata": {},
   "outputs": [
    {
     "data": {
      "text/plain": [
       "(0.027483204793942482, 0.010484496297028831)"
      ]
     },
     "execution_count": 15,
     "metadata": {},
     "output_type": "execute_result"
    }
   ],
   "source": [
    "np.mean(aAS_true_mapping_noun),np.mean(aAS_true_mapping_verb)"
   ]
  },
  {
   "cell_type": "code",
   "execution_count": 16,
   "id": "03b15c19-aa84-4ada-ab55-4f011cd8f493",
   "metadata": {},
   "outputs": [],
   "source": [
    "values=aAS_true_mapping_noun+aAS_perm_mapping_noun+aAS_true_mapping_verb+aAS_perm_mapping_verb\n",
    "types=[\"VG Nouns\"]*(len(aAS_true_mapping_noun)+len(aAS_perm_mapping_noun))+[\"VG Verbs\"]*(len(aAS_true_mapping_verb)+len(aAS_perm_mapping_verb))\n",
    "measures=[\"true mapping\"]*len(aAS_true_mapping_noun)+[\"perm mapping\"]*len(aAS_perm_mapping_noun)+[\"true mapping\"]*len(aAS_true_mapping_verb)+[\"perm mapping\"]*len(aAS_perm_mapping_verb)\n",
    "df=pd.DataFrame(dict(\n",
    "    value=values,\n",
    "    wordtype=types,\n",
    "    measure=measures\n",
    "))"
   ]
  },
  {
   "cell_type": "code",
   "execution_count": 17,
   "id": "cc3a302a-4bd6-4680-82fc-781761531ed5",
   "metadata": {},
   "outputs": [
    {
     "data": {
      "text/html": [
       "<div>\n",
       "<style scoped>\n",
       "    .dataframe tbody tr th:only-of-type {\n",
       "        vertical-align: middle;\n",
       "    }\n",
       "\n",
       "    .dataframe tbody tr th {\n",
       "        vertical-align: top;\n",
       "    }\n",
       "\n",
       "    .dataframe thead th {\n",
       "        text-align: right;\n",
       "    }\n",
       "</style>\n",
       "<table border=\"1\" class=\"dataframe\">\n",
       "  <thead>\n",
       "    <tr style=\"text-align: right;\">\n",
       "      <th></th>\n",
       "      <th>value</th>\n",
       "      <th>wordtype</th>\n",
       "      <th>measure</th>\n",
       "    </tr>\n",
       "  </thead>\n",
       "  <tbody>\n",
       "    <tr>\n",
       "      <th>0</th>\n",
       "      <td>-0.006646</td>\n",
       "      <td>VG Nouns</td>\n",
       "      <td>true mapping</td>\n",
       "    </tr>\n",
       "    <tr>\n",
       "      <th>1</th>\n",
       "      <td>-0.043115</td>\n",
       "      <td>VG Nouns</td>\n",
       "      <td>true mapping</td>\n",
       "    </tr>\n",
       "    <tr>\n",
       "      <th>2</th>\n",
       "      <td>0.051684</td>\n",
       "      <td>VG Nouns</td>\n",
       "      <td>true mapping</td>\n",
       "    </tr>\n",
       "    <tr>\n",
       "      <th>3</th>\n",
       "      <td>0.037055</td>\n",
       "      <td>VG Nouns</td>\n",
       "      <td>true mapping</td>\n",
       "    </tr>\n",
       "    <tr>\n",
       "      <th>4</th>\n",
       "      <td>-0.002540</td>\n",
       "      <td>VG Nouns</td>\n",
       "      <td>true mapping</td>\n",
       "    </tr>\n",
       "    <tr>\n",
       "      <th>...</th>\n",
       "      <td>...</td>\n",
       "      <td>...</td>\n",
       "      <td>...</td>\n",
       "    </tr>\n",
       "    <tr>\n",
       "      <th>2001995</th>\n",
       "      <td>0.031197</td>\n",
       "      <td>VG Verbs</td>\n",
       "      <td>perm mapping</td>\n",
       "    </tr>\n",
       "    <tr>\n",
       "      <th>2001996</th>\n",
       "      <td>0.024104</td>\n",
       "      <td>VG Verbs</td>\n",
       "      <td>perm mapping</td>\n",
       "    </tr>\n",
       "    <tr>\n",
       "      <th>2001997</th>\n",
       "      <td>-0.019715</td>\n",
       "      <td>VG Verbs</td>\n",
       "      <td>perm mapping</td>\n",
       "    </tr>\n",
       "    <tr>\n",
       "      <th>2001998</th>\n",
       "      <td>-0.034933</td>\n",
       "      <td>VG Verbs</td>\n",
       "      <td>perm mapping</td>\n",
       "    </tr>\n",
       "    <tr>\n",
       "      <th>2001999</th>\n",
       "      <td>-0.027410</td>\n",
       "      <td>VG Verbs</td>\n",
       "      <td>perm mapping</td>\n",
       "    </tr>\n",
       "  </tbody>\n",
       "</table>\n",
       "<p>2002000 rows × 3 columns</p>\n",
       "</div>"
      ],
      "text/plain": [
       "            value  wordtype       measure\n",
       "0       -0.006646  VG Nouns  true mapping\n",
       "1       -0.043115  VG Nouns  true mapping\n",
       "2        0.051684  VG Nouns  true mapping\n",
       "3        0.037055  VG Nouns  true mapping\n",
       "4       -0.002540  VG Nouns  true mapping\n",
       "...           ...       ...           ...\n",
       "2001995  0.031197  VG Verbs  perm mapping\n",
       "2001996  0.024104  VG Verbs  perm mapping\n",
       "2001997 -0.019715  VG Verbs  perm mapping\n",
       "2001998 -0.034933  VG Verbs  perm mapping\n",
       "2001999 -0.027410  VG Verbs  perm mapping\n",
       "\n",
       "[2002000 rows x 3 columns]"
      ]
     },
     "execution_count": 17,
     "metadata": {},
     "output_type": "execute_result"
    }
   ],
   "source": [
    "df"
   ]
  },
  {
   "cell_type": "code",
   "execution_count": 18,
   "id": "d36ccb47-07c4-4df5-988b-860f3f73b2fd",
   "metadata": {},
   "outputs": [],
   "source": [
    "palette_perm_mappings=['#CBCBCB','#CBCBCB']\n",
    "# palette_true_mappings=['#F4D000','#B6C29A']\n",
    "palette_true_mappings=[sns.color_palette(\"gist_stern_r\")[0],sns.color_palette(\"gist_stern_r\")[5]]"
   ]
  },
  {
   "cell_type": "code",
   "execution_count": 58,
   "id": "17f6bc84-7d59-4873-95ea-6ccd93ac2307",
   "metadata": {},
   "outputs": [
    {
     "data": {
      "image/png": "[encoded data removed]",
      "text/plain": [
       "<Figure size 720x576 with 1 Axes>"
      ]
     },
     "metadata": {
      "needs_background": "light"
     },
     "output_type": "display_data"
    }
   ],
   "source": [
    "palette = ['#B6C29A', '#8A977B']\n",
    "# fig, ax =plt.subplots(figsize=(8,6))\n",
    "plt.subplots(figsize=(10,8))\n",
    "ax=sns.violinplot(y=\"measure\", x=\"value\", hue=\"wordtype\",\n",
    "                    data=df[df.measure==\"perm mapping\"],split=True,palette=palette_perm_mappings,inner=None,legend=False)\n",
    "sns.violinplot(y=\"measure\", x=\"value\", hue=\"wordtype\",\n",
    "                    data=df[df.measure==\"true mapping\"],split=True,palette=palette_true_mappings,inner=None)\n",
    "\n",
    "sns.pointplot(y=\"measure\", x=\"value\", hue=\"wordtype\",\n",
    "                    data=df[df.measure==\"true mapping\"], palette=palette_true_mappings,estimator=np.mean, scale=2, markers=[\"*\",\"*\"])\n",
    "\n",
    "for violin in ax.collections[:-2]:\n",
    "    violin.set_alpha(0.75)\n",
    "    \n",
    "h,l = ax.get_legend_handles_labels()\n",
    "ax.legend(h[2:4],l[2:4],loc=2)\n",
    "\n",
    "sns.despine()\n",
    "# g.legend(loc=2)\n",
    "ax.set_ylabel(\"\")\n",
    "ax.set_xlabel(\"Alignment Strength\",fontsize=24,fontname='Georgia')\n",
    "ax.set_yticks([])\n",
    "ax.set_xlim(-0.15, 0.15)\n",
    "# # ax.get_legend().remove()\n",
    "\n",
    "plt.text(-0.11,-0.55,'Systems with 1 exemplar per category',fontname='Georgia',fontsize=28)\n",
    "\n",
    "plt.tight_layout()\n",
    "if save_fig:\n",
    "    plt.savefig(\"../figs/single_alignment_vg.png\",dpi=600)\n",
    "plt.show()"
   ]
  },
  {
   "cell_type": "code",
   "execution_count": 62,
   "id": "7898b394-46da-4248-a79d-e1873ffbde2a",
   "metadata": {},
   "outputs": [
    {
     "data": {
      "text/plain": [
       "Ttest_indResult(statistic=31.335959689595835, pvalue=1.9235677883208147e-215)"
      ]
     },
     "execution_count": 62,
     "metadata": {},
     "output_type": "execute_result"
    }
   ],
   "source": [
    "scipy.stats.ttest_ind(aAS_true_mapping_noun,aAS_perm_mapping_noun)"
   ]
  },
  {
   "cell_type": "code",
   "execution_count": 63,
   "id": "1cb2fd42-7620-4d5a-a9c9-fd0828ea9e9d",
   "metadata": {},
   "outputs": [
    {
     "data": {
      "text/plain": [
       "Ttest_indResult(statistic=13.316073629471504, pvalue=1.881576183212437e-40)"
      ]
     },
     "execution_count": 63,
     "metadata": {},
     "output_type": "execute_result"
    }
   ],
   "source": [
    "scipy.stats.ttest_ind(aAS_true_mapping_verb,aAS_perm_mapping_verb)"
   ]
  },
  {
   "cell_type": "markdown",
   "id": "48bec0c8-7555-43f2-9ee6-41f37724b0ac",
   "metadata": {},
   "source": [
    "## Systems with 8 exemplars per category"
   ]
  },
  {
   "cell_type": "code",
   "execution_count": 22,
   "id": "28749473-7638-472d-951f-1ecb55efeb6b",
   "metadata": {},
   "outputs": [
    {
     "name": "stdout",
     "output_type": "stream",
     "text": [
      "10291.636207818985\n"
     ]
    }
   ],
   "source": [
    "rAS_noun_list_agg,aAS_noun_list_agg,p_noun_list_agg,rAS_verb_list_agg,aAS_verb_list_agg,p_verb_list_agg=run_alignment_multiple_runs(vg_noun_data,vg_verb_data,8)"
   ]
  },
  {
   "cell_type": "code",
   "execution_count": 23,
   "id": "a4a9c1b7-8650-4a28-b899-63087df75266",
   "metadata": {},
   "outputs": [
    {
     "data": {
      "text/plain": [
       "(1.0, 1.0)"
      ]
     },
     "execution_count": 23,
     "metadata": {},
     "output_type": "execute_result"
    }
   ],
   "source": [
    "len([i for i in p_noun_list_agg if i<0.05])/len(p_noun_list_agg),len([i for i in p_verb_list_agg if i<0.05])/len(p_verb_list_agg)"
   ]
  },
  {
   "cell_type": "code",
   "execution_count": 24,
   "id": "c6dc65fb-3f38-44e9-800a-d8a5930740ff",
   "metadata": {},
   "outputs": [
    {
     "data": {
      "text/plain": [
       "(0.999991, 0.9917549999999999)"
      ]
     },
     "execution_count": 24,
     "metadata": {},
     "output_type": "execute_result"
    }
   ],
   "source": [
    "np.mean([compute_rAS(sublist) for sublist in aAS_noun_list_agg]),np.mean([compute_rAS(sublist) for sublist in aAS_verb_list_agg])"
   ]
  },
  {
   "cell_type": "code",
   "execution_count": 25,
   "id": "102b8f75-d5d0-43df-ad73-122aeca32642",
   "metadata": {},
   "outputs": [],
   "source": [
    "aAS_true_mapping_noun_agg=[sublist[0] for sublist in aAS_noun_list_agg]\n",
    "aAS_perm_mapping_noun_agg=[item for sublist in aAS_noun_list_agg for item in sublist[1:]]\n",
    "\n",
    "aAS_true_mapping_verb_agg=[sublist[0] for sublist in aAS_verb_list_agg]\n",
    "aAS_perm_mapping_verb_agg=[item for sublist in aAS_verb_list_agg for item in sublist[1:]]"
   ]
  },
  {
   "cell_type": "code",
   "execution_count": 26,
   "id": "2664db22-8785-423d-bb43-79ef51094b6a",
   "metadata": {},
   "outputs": [
    {
     "data": {
      "text/plain": [
       "(0.17499610062407345, 0.09472706134325572)"
      ]
     },
     "execution_count": 26,
     "metadata": {},
     "output_type": "execute_result"
    }
   ],
   "source": [
    "np.mean(aAS_true_mapping_noun_agg),np.mean(aAS_true_mapping_verb_agg)"
   ]
  },
  {
   "cell_type": "code",
   "execution_count": 27,
   "id": "575ffef9-ec17-4ffd-8297-0302ade02c87",
   "metadata": {},
   "outputs": [],
   "source": [
    "values_agg=aAS_true_mapping_noun_agg+aAS_perm_mapping_noun_agg+aAS_true_mapping_verb_agg+aAS_perm_mapping_verb_agg\n",
    "types_agg=[\"VG Nouns\"]*(len(aAS_true_mapping_noun_agg)+len(aAS_perm_mapping_noun_agg))+[\"VG Verbs\"]*(len(aAS_true_mapping_verb_agg)+len(aAS_perm_mapping_verb_agg))\n",
    "measures_agg=[\"true mapping\"]*len(aAS_true_mapping_noun_agg)+[\"perm mapping\"]*len(aAS_perm_mapping_noun_agg)+[\"true mapping\"]*len(aAS_true_mapping_verb_agg)+[\"perm mapping\"]*len(aAS_perm_mapping_verb_agg)\n",
    "df_agg=pd.DataFrame(dict(\n",
    "    value=values_agg,\n",
    "    wordtype=types_agg,\n",
    "    measure=measures_agg\n",
    "))"
   ]
  },
  {
   "cell_type": "code",
   "execution_count": 28,
   "id": "5ca63750-a0dc-47a9-976b-841e2baaa44e",
   "metadata": {},
   "outputs": [
    {
     "data": {
      "text/html": [
       "<div>\n",
       "<style scoped>\n",
       "    .dataframe tbody tr th:only-of-type {\n",
       "        vertical-align: middle;\n",
       "    }\n",
       "\n",
       "    .dataframe tbody tr th {\n",
       "        vertical-align: top;\n",
       "    }\n",
       "\n",
       "    .dataframe thead th {\n",
       "        text-align: right;\n",
       "    }\n",
       "</style>\n",
       "<table border=\"1\" class=\"dataframe\">\n",
       "  <thead>\n",
       "    <tr style=\"text-align: right;\">\n",
       "      <th></th>\n",
       "      <th>value</th>\n",
       "      <th>wordtype</th>\n",
       "      <th>measure</th>\n",
       "    </tr>\n",
       "  </thead>\n",
       "  <tbody>\n",
       "    <tr>\n",
       "      <th>0</th>\n",
       "      <td>0.196670</td>\n",
       "      <td>VG Nouns</td>\n",
       "      <td>true mapping</td>\n",
       "    </tr>\n",
       "    <tr>\n",
       "      <th>1</th>\n",
       "      <td>0.141882</td>\n",
       "      <td>VG Nouns</td>\n",
       "      <td>true mapping</td>\n",
       "    </tr>\n",
       "    <tr>\n",
       "      <th>2</th>\n",
       "      <td>0.192146</td>\n",
       "      <td>VG Nouns</td>\n",
       "      <td>true mapping</td>\n",
       "    </tr>\n",
       "    <tr>\n",
       "      <th>3</th>\n",
       "      <td>0.156680</td>\n",
       "      <td>VG Nouns</td>\n",
       "      <td>true mapping</td>\n",
       "    </tr>\n",
       "    <tr>\n",
       "      <th>4</th>\n",
       "      <td>0.196914</td>\n",
       "      <td>VG Nouns</td>\n",
       "      <td>true mapping</td>\n",
       "    </tr>\n",
       "    <tr>\n",
       "      <th>...</th>\n",
       "      <td>...</td>\n",
       "      <td>...</td>\n",
       "      <td>...</td>\n",
       "    </tr>\n",
       "    <tr>\n",
       "      <th>2001995</th>\n",
       "      <td>-0.008294</td>\n",
       "      <td>VG Verbs</td>\n",
       "      <td>perm mapping</td>\n",
       "    </tr>\n",
       "    <tr>\n",
       "      <th>2001996</th>\n",
       "      <td>-0.001342</td>\n",
       "      <td>VG Verbs</td>\n",
       "      <td>perm mapping</td>\n",
       "    </tr>\n",
       "    <tr>\n",
       "      <th>2001997</th>\n",
       "      <td>0.008698</td>\n",
       "      <td>VG Verbs</td>\n",
       "      <td>perm mapping</td>\n",
       "    </tr>\n",
       "    <tr>\n",
       "      <th>2001998</th>\n",
       "      <td>0.061508</td>\n",
       "      <td>VG Verbs</td>\n",
       "      <td>perm mapping</td>\n",
       "    </tr>\n",
       "    <tr>\n",
       "      <th>2001999</th>\n",
       "      <td>-0.025005</td>\n",
       "      <td>VG Verbs</td>\n",
       "      <td>perm mapping</td>\n",
       "    </tr>\n",
       "  </tbody>\n",
       "</table>\n",
       "<p>2002000 rows × 3 columns</p>\n",
       "</div>"
      ],
      "text/plain": [
       "            value  wordtype       measure\n",
       "0        0.196670  VG Nouns  true mapping\n",
       "1        0.141882  VG Nouns  true mapping\n",
       "2        0.192146  VG Nouns  true mapping\n",
       "3        0.156680  VG Nouns  true mapping\n",
       "4        0.196914  VG Nouns  true mapping\n",
       "...           ...       ...           ...\n",
       "2001995 -0.008294  VG Verbs  perm mapping\n",
       "2001996 -0.001342  VG Verbs  perm mapping\n",
       "2001997  0.008698  VG Verbs  perm mapping\n",
       "2001998  0.061508  VG Verbs  perm mapping\n",
       "2001999 -0.025005  VG Verbs  perm mapping\n",
       "\n",
       "[2002000 rows x 3 columns]"
      ]
     },
     "execution_count": 28,
     "metadata": {},
     "output_type": "execute_result"
    }
   ],
   "source": [
    "df_agg"
   ]
  },
  {
   "cell_type": "code",
   "execution_count": 29,
   "id": "34b6168d-ea14-4e41-9cea-6afafae57821",
   "metadata": {},
   "outputs": [],
   "source": [
    "palette_perm_mappings=['#CBCBCB','#CBCBCB']\n",
    "# palette_true_mappings=['#F4D000','#B6C29A']\n",
    "palette_true_mappings=[sns.color_palette(\"gist_stern_r\")[0],sns.color_palette(\"gist_stern_r\")[5]]"
   ]
  },
  {
   "cell_type": "code",
   "execution_count": 61,
   "id": "3837c61f-4f21-48b4-9a7b-8516821930ce",
   "metadata": {},
   "outputs": [
    {
     "data": {
      "text/plain": [
       "1000998"
      ]
     },
     "execution_count": 61,
     "metadata": {},
     "output_type": "execute_result"
    }
   ],
   "source": [
    "1000*1000+1000-2"
   ]
  },
  {
   "cell_type": "code",
   "execution_count": 59,
   "id": "46fb2647-7244-4698-941f-0f48e78ec6df",
   "metadata": {},
   "outputs": [
    {
     "data": {
      "image/png": "[encoded data removed]",
      "text/plain": [
       "<Figure size 720x576 with 1 Axes>"
      ]
     },
     "metadata": {
      "needs_background": "light"
     },
     "output_type": "display_data"
    }
   ],
   "source": [
    "palette = ['#B6C29A', '#8A977B']\n",
    "# fig, ax =plt.subplots(figsize=(8,6))\n",
    "plt.subplots(figsize=(10,8))\n",
    "ax=sns.violinplot(y=\"measure\", x=\"value\", hue=\"wordtype\",\n",
    "                    data=df_agg[df_agg.measure==\"perm mapping\"],split=True,palette=palette_perm_mappings,inner=None,legend=False)\n",
    "sns.violinplot(y=\"measure\", x=\"value\", hue=\"wordtype\",\n",
    "                    data=df_agg[df_agg.measure==\"true mapping\"],split=True,palette=palette_true_mappings,inner=None)\n",
    "\n",
    "sns.pointplot(y=\"measure\", x=\"value\", hue=\"wordtype\",\n",
    "                    data=df_agg[df_agg.measure==\"true mapping\"], palette=palette_true_mappings,estimator=np.mean, scale=2, markers=[\"*\",\"*\"])\n",
    "\n",
    "for violin in ax.collections[:-2]:\n",
    "    violin.set_alpha(0.75)\n",
    "    \n",
    "h,l = ax.get_legend_handles_labels()\n",
    "ax.legend(h[2:4],l[2:4],loc=2)\n",
    "\n",
    "sns.despine()\n",
    "# g.legend(loc=2)\n",
    "ax.set_ylabel(\"\")\n",
    "ax.set_xlabel(\"Alignment Strength\",fontsize=24,fontname='Georgia')\n",
    "ax.set_yticks([])\n",
    "ax.set_xlim(-0.18, 0.25)\n",
    "# # ax.get_legend().remove()\n",
    "\n",
    "plt.text(-0.11,-0.55,'Systems with 8 exemplars per category',fontname='Georgia',fontsize=28)\n",
    "\n",
    "plt.tight_layout()\n",
    "if save_fig:\n",
    "    plt.savefig(\"../figs/single_alignment_agg_vg.png\",dpi=600)\n",
    "plt.show()"
   ]
  },
  {
   "cell_type": "code",
   "execution_count": 33,
   "id": "39df3e94-885a-4a88-bdbd-c7a3e9428dd4",
   "metadata": {},
   "outputs": [
    {
     "data": {
      "text/plain": [
       "Ttest_indResult(statistic=159.01232681766442, pvalue=0.0)"
      ]
     },
     "execution_count": 33,
     "metadata": {},
     "output_type": "execute_result"
    }
   ],
   "source": [
    "scipy.stats.ttest_ind(aAS_true_mapping_noun_agg,aAS_perm_mapping_noun_agg)"
   ]
  },
  {
   "cell_type": "code",
   "execution_count": 34,
   "id": "5cc1f729-fae1-4c90-97a7-bd7ec388e589",
   "metadata": {},
   "outputs": [
    {
     "data": {
      "text/plain": [
       "Ttest_indResult(statistic=89.49101726607384, pvalue=0.0)"
      ]
     },
     "execution_count": 34,
     "metadata": {},
     "output_type": "execute_result"
    }
   ],
   "source": [
    "scipy.stats.ttest_ind(aAS_true_mapping_verb_agg,aAS_perm_mapping_verb_agg)"
   ]
  }
 ],
 "metadata": {
  "kernelspec": {
   "display_name": "Python 3 (ipykernel)",
   "language": "python",
   "name": "python3"
  },
  "language_info": {
   "codemirror_mode": {
    "name": "ipython",
    "version": 3
   },
   "file_extension": ".py",
   "mimetype": "text/x-python",
   "name": "python",
   "nbconvert_exporter": "python",
   "pygments_lexer": "ipython3",
   "version": "3.9.15"
  }
 },
 "nbformat": 4,
 "nbformat_minor": 5
}
